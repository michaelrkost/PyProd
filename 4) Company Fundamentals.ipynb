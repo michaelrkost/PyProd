{
 "cells": [
  {
   "cell_type": "code",
   "execution_count": 1,
   "outputs": [
    {
     "name": "stdout",
     "output_type": "stream",
     "text": [
      "Start Time:  2020-10-27 09:49\n",
      "End Time:  2020-10-27 09:49\n",
      "Elapsed Time:  0:00:18.014185\n",
      "Now ->   2020-10-27 09:49:36.830701 \n",
      "Done\n"
     ]
    }
   ],
   "source": [
    "import sys\n",
    "# # # ------------------------\n",
    "# sys.path.append(\"/home/michael/pycharm/pycharm-2019.2.3/debug-eggs/pydevd-pycharm.egg\")\n",
    "#\n",
    "# import pydevd_pycharm\n",
    "# pydevd_pycharm.settrace('192.168.1.200', port=2222, stdoutToServer=True, stderrToServer=True)\n",
    "# ------------------------\n",
    "\n",
    "import datetime\n",
    "sys.path.append('/home/michael/jupyter/local-packages')\n",
    "\n",
    "from ibUtils import buildCompanyFundamentalFromBarChart as createBarChartExcel\n",
    "\n",
    "aStock = 'MA'\n",
    "# theExpiryDateText = '2020-07-17-m'\n",
    "# theExpiryDateText = '2020-08-21-m'\n",
    "theExpiryDateText = '2020-10-30-w'\n",
    "\n",
    "startday = '2020-10-26'\n",
    "\n",
    "startTime = datetime.datetime.now()\n",
    "\n",
    "print('Start Time: ', startTime.strftime(\"%Y-%m-%d %H:%M\"))\n",
    "#================================================================\n",
    "aSeleniumBrowserDriver = createBarChartExcel.buildExcelFile(aStock, startday, theExpiryDateText )\n",
    "\n",
    "#================================================================\n",
    "endTime = datetime.datetime.now()\n",
    "\n",
    "print('End Time: ', endTime.strftime(\"%Y-%m-%d %H:%M\"))\n",
    "print('Elapsed Time: ', endTime - startTime )\n",
    "\n",
    "print('Now ->  ', datetime.datetime.now(), '\\nDone')"
   ],
   "metadata": {
    "collapsed": false,
    "pycharm": {
     "name": "#%%\n"
    }
   }
  },
  {
   "cell_type": "code",
   "execution_count": 2,
   "outputs": [],
   "source": [
    "# Close the Browser\n",
    "aSeleniumBrowserDriver.close()\n"
   ],
   "metadata": {
    "collapsed": false,
    "pycharm": {
     "name": "#%%\n"
    }
   }
  },
  {
   "cell_type": "code",
   "execution_count": null,
   "outputs": [],
   "source": [
    "\n"
   ],
   "metadata": {
    "collapsed": false,
    "pycharm": {
     "name": "#%%\n"
    }
   }
  }
 ],
 "metadata": {
  "kernelspec": {
   "name": "pycharm-cf45a016",
   "language": "python",
   "display_name": "PyCharm (getEarningsFromYahoo)"
  },
  "language_info": {
   "codemirror_mode": {
    "name": "ipython",
    "version": 2
   },
   "file_extension": ".py",
   "mimetype": "text/x-python",
   "name": "python",
   "nbconvert_exporter": "python",
   "pygments_lexer": "ipython2",
   "version": "2.7.6"
  }
 },
 "nbformat": 4,
 "nbformat_minor": 0
}