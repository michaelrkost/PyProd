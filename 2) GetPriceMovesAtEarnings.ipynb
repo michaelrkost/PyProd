{
 "cells": [
  {
   "cell_type": "code",
   "execution_count": 1,
   "metadata": {
    "collapsed": true
   },
   "outputs": [
    {
     "name": "stdout",
     "output_type": "stream",
     "text": [
      "Start Time:  2020-10-24 15:11\n"
     ]
    }
   ],
   "source": [
    "import sys\n",
    "# #=====================================================================\n",
    "# sys.path.append(\"/home/michael/pycharm/pycharm-2019.2.3/debug-eggs/pydevd-pycharm.egg\")\n",
    "#\n",
    "# import pydevd_pycharm\n",
    "# pydevd_pycharm.settrace('192.168.1.200', port=2222, stdoutToServer=True, stderrToServer=True)\n",
    "# #=====================================================================\n",
    "\n",
    "from localUtilities.webScrape import getCompanEarningsFromYahoo \n",
    "from localUtilities.ibUtils import setup as setup\n",
    "\n",
    "\n",
    "import datetime\n",
    "import pandas as pd\n",
    "\n",
    "# YahooFinancials\n",
    "# https://pypi.org/project/yahoofinancials/\n",
    "from yahoofinancials import YahooFinancials\n",
    "\n",
    "#   not 100% clear which variables this supresses \n",
    "from IPython.core.interactiveshell import InteractiveShell\n",
    "InteractiveShell.ast_node_interactivity = \"all\"\n",
    "\n",
    "startTime = datetime.datetime.now()\n",
    "print('Start Time: ', startTime.strftime(\"%Y-%m-%d %H:%M\"))"
   ]
  },
  {
   "cell_type": "code",
   "execution_count": 2,
   "outputs": [
    {
     "data": {
      "text/plain": "'/home/michael/jupyter/earningDateData/Companies/2020-10-26/rawData/'"
     },
     "execution_count": 2,
     "metadata": {},
     "output_type": "execute_result"
    }
   ],
   "source": [
    "startday = '2020-10-26'\n",
    "\n",
    "theDirectory = '/home/michael/jupyter/earningDateData/' + 'Companies/' + startday  + '/rawData/'\n",
    "csvSuffix = '.csv'\n",
    "inFile = theDirectory + 'EarningOfInterestforweekOf-' + startday + csvSuffix\n",
    "\n",
    "theDirectory\n"
   ],
   "metadata": {
    "collapsed": false,
    "pycharm": {
     "name": "#%%\n"
    }
   }
  },
  {
   "cell_type": "code",
   "execution_count": 3,
   "outputs": [
    {
     "name": "stdout",
     "output_type": "stream",
     "text": [
      "\n",
      "7) LHX --> Calculating 32 past Qtrs // 8 years - Max\n",
      "     Stock:  LHX\n",
      "          <class 'KeyError'> Historical Price Issue in:        setup.addPastMarketData\n",
      "     Stock:  LHX\n",
      "          <class 'KeyError'> Historical Price Issue in:        setup.addPastMarketData\n",
      "\n",
      "6) LYB --> Calculating 32 past Qtrs // 8 years - Max\n",
      "\n",
      "5) LGND --> Calculating 32 past Qtrs // 8 years - Max\n",
      "     KeyError <class 'KeyError'>        setup.getDaysPastEarningsClosePrices\n",
      "         earningsDate: 2014-02-11\n",
      "\n",
      "4) MGI --> Calculating 32 past Qtrs // 8 years - Max\n",
      "     KeyError <class 'KeyError'>        setup.getDaysPastEarningsClosePrices\n",
      "         earningsDate: 2014-02-11\n",
      "\n",
      "3) MGI --> Calculating 32 past Qtrs // 8 years - Max\n",
      "     KeyError <class 'KeyError'>        setup.getDaysPastEarningsClosePrices\n",
      "         earningsDate: 2014-02-11\n",
      "\n",
      "2) MMP --> Calculating 32 past Qtrs // 8 years - Max\n",
      "\n",
      "1) SHLX --> Calculating 28 past Qtrs // 7.0 years\n",
      "     Stock:  SHLX\n",
      "          <class 'KeyError'> Historical Price Issue in:        setup.addPastMarketData\n",
      "\n",
      "\n",
      "End Time:  2020-10-24 15:12\n",
      "Elapsed Time:  0:00:32.632752 \n",
      "Done\n"
     ]
    }
   ],
   "source": [
    "# get all the stocks for startday earning week\n",
    "earningsDFfromFile = pd.read_csv(inFile)\n",
    "\n",
    "# Get the length of the DF so we can display a countdown \n",
    "count = 0\n",
    "thelen = len(earningsDFfromFile)\n",
    "\n",
    "for row in earningsDFfromFile.itertuples():    \n",
    "    print('\\n', thelen - count,') ',  row.Symbol, end=' ', sep='')\n",
    "\n",
    "    theStock = row.Symbol\n",
    "    \n",
    "    # get a theStock past earnings dates info\n",
    "    yahooTheStocksPastEarningsDF = getCompanEarningsFromYahoo.getPastEarnings(theStock)\n",
    "    yahooTheStocksPastEarningsMarketDataDF = setup.addPastMarketData(yahooTheStocksPastEarningsDF)\n",
    "    # yahooTheStocksPastEarningsMarketDataDF = setup.formatForCSVFile(yahooTheStocksPastEarningsMarketDataDF)\n",
    "    \n",
    "    aStockOutFile = theDirectory + theStock  + csvSuffix\n",
    "    yahooTheStocksPastEarningsMarketDataDF.to_csv(aStockOutFile)\n",
    "    \n",
    "    count = count + 1    \n",
    "    \n",
    "endTime = datetime.datetime.now()\n",
    "print('\\n\\nEnd Time: ', endTime.strftime(\"%Y-%m-%d %H:%M\"))\n",
    "print('Elapsed Time: ', endTime - startTime, '\\nDone')\n",
    "\n",
    "\n"
   ],
   "metadata": {
    "collapsed": false,
    "pycharm": {
     "name": "#%%\n"
    }
   }
  },
  {
   "cell_type": "code",
   "execution_count": null,
   "outputs": [],
   "source": [
    "\n"
   ],
   "metadata": {
    "collapsed": false,
    "pycharm": {
     "name": "#%%\n"
    }
   }
  }
 ],
 "metadata": {
  "kernelspec": {
   "name": "pycharm-cf45a016",
   "language": "python",
   "display_name": "PyCharm (getEarningsFromYahoo)"
  },
  "language_info": {
   "codemirror_mode": {
    "name": "ipython",
    "version": 2
   },
   "file_extension": ".py",
   "mimetype": "text/x-python",
   "name": "python",
   "nbconvert_exporter": "python",
   "pygments_lexer": "ipython2",
   "version": "2.7.6"
  }
 },
 "nbformat": 4,
 "nbformat_minor": 0
}